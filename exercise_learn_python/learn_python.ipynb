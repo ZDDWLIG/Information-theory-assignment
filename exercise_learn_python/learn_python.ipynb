{
 "cells": [
  {
   "cell_type": "markdown",
   "id": "1fc802f3",
   "metadata": {},
   "source": [
    "# 熟悉Python"
   ]
  },
  {
   "cell_type": "markdown",
   "id": "73e82d84",
   "metadata": {},
   "source": [
    "## Hello, World!\n",
    "Python 是一种非常简单的语言，并且具有非常简单的语法。 \n",
    "它鼓励程序员在没有样板（准备好的）代码的情况下进行编程。 \n",
    "Python 中最简单的指令是`print`指令，它只是打印出一行，并且自动包括一个换行符，这与C++中是不同的。\n",
    "\n",
    "有两个主要的 Python 版本，Python 2 和 Python 3。\n",
    "Python 2 和 Python 3 完全不同。 \n",
    "我们使用 Python 3，因为它在语义上更正确并支持更新的功能。（Python 2 已经不再维护了。）\n",
    "例如，Python 2 和 3 之间的一个区别是 `print` 语句。 在 Python 2 中，`print` 语句不是函数，因此调用时不带括号。 \n",
    "但是，在 Python 3 中，它是一个函数，并且必须用括号调用。\n",
    "\n",
    "要在 Python 3 中打印字符串，只需编写："
   ]
  },
  {
   "cell_type": "code",
   "execution_count": 1,
   "id": "b3f64bdf",
   "metadata": {},
   "outputs": [
    {
     "name": "stdout",
     "output_type": "stream",
     "text": [
      "This line will be printed.\n",
      "This line will be printed in a new row.\n"
     ]
    }
   ],
   "source": [
    "print(\"This line will be printed.\")\n",
    "print(\"This line will be printed in a new row.\")"
   ]
  },
  {
   "cell_type": "markdown",
   "id": "e8bb2f8a",
   "metadata": {},
   "source": [
    "# 缩进\n",
    "\n",
    "Python 使用缩进来区分程序块，而不是像C++那样使用花括号。 制表符和空格都受支持，但标准缩进要求标准 Python 代码使用四个空格。 例如： "
   ]
  },
  {
   "cell_type": "code",
   "execution_count": 2,
   "id": "9ad8048f",
   "metadata": {},
   "outputs": [
    {
     "name": "stdout",
     "output_type": "stream",
     "text": [
      "x is larger than 1.\n",
      "x is smaller than 10.\n"
     ]
    }
   ],
   "source": [
    "x = 5\n",
    "if x > 1:\n",
    "    # indented four spaces\n",
    "    print(\"x is larger than 1.\")\n",
    "        \n",
    "    if x < 10:\n",
    "        # another four spaces indent\n",
    "        print(\"x is smaller than 10.\")\n",
    "    else:\n",
    "        print(\"x is larger than 10.\")\n",
    "        \n",
    "else:\n",
    "    print(\"x is smaller than 1.\")"
   ]
  },
  {
   "cell_type": "markdown",
   "id": "10bf7984",
   "metadata": {},
   "source": [
    "## 变量和类型\n",
    "Python 完全面向对象，而不是“静态类型”。 不需要在使用它们之前声明变量，也不需要声明它们的类型。 \n",
    "Python 中的每个变量都是一个对象。\n",
    "\n",
    "我们将介绍一些基本类型的变量。\n",
    "\n",
    "### 数字\n",
    "Python 支持两种类型的数字——整数（整数）和浮点数（小数）。 （它也支持复数，但我们先不在这里讲解）。\n",
    "\n",
    "要定义整数，请使用以下语法："
   ]
  },
  {
   "cell_type": "code",
   "execution_count": 3,
   "id": "90c3cbcd",
   "metadata": {},
   "outputs": [
    {
     "name": "stdout",
     "output_type": "stream",
     "text": [
      "7\n"
     ]
    }
   ],
   "source": [
    "myint = 7\n",
    "print(myint)"
   ]
  },
  {
   "cell_type": "markdown",
   "id": "ff5e0d0d",
   "metadata": {},
   "source": [
    "要定义浮点数，可以使用以下符号之一："
   ]
  },
  {
   "cell_type": "code",
   "execution_count": 1,
   "id": "7b6701f8",
   "metadata": {},
   "outputs": [
    {
     "name": "stdout",
     "output_type": "stream",
     "text": [
      "7.0\n",
      "7.0\n"
     ]
    }
   ],
   "source": [
    "myfloat = 7.0\n",
    "print(myfloat)\n",
    "myfloat = float(7)\n",
    "print(myfloat)"
   ]
  },
  {
   "cell_type": "markdown",
   "id": "09561bbb",
   "metadata": {},
   "source": [
    "### 字符串\n",
    "字符串用单引号或双引号定义。"
   ]
  },
  {
   "cell_type": "code",
   "execution_count": 5,
   "id": "37c54cec",
   "metadata": {},
   "outputs": [
    {
     "name": "stdout",
     "output_type": "stream",
     "text": [
      "hello\n",
      "hello\n"
     ]
    }
   ],
   "source": [
    "mystring = 'hello'\n",
    "print(mystring)\n",
    "mystring = \"hello\"\n",
    "print(mystring)"
   ]
  },
  {
   "cell_type": "markdown",
   "id": "e13f9a85",
   "metadata": {},
   "source": [
    "两者之间的区别在于，使用双引号可以很容易地包含撇号（而如果使用单引号，这些将终止字符串）。"
   ]
  },
  {
   "cell_type": "code",
   "execution_count": 6,
   "id": "dd3ce442",
   "metadata": {},
   "outputs": [
    {
     "name": "stdout",
     "output_type": "stream",
     "text": [
      "Don't worry about apostrophes\n"
     ]
    }
   ],
   "source": [
    "mystring = \"Don't worry about apostrophes\"\n",
    "print(mystring)"
   ]
  },
  {
   "cell_type": "markdown",
   "id": "227ca3f2",
   "metadata": {},
   "source": [
    "可以对数字和字符串执行简单的运算符："
   ]
  },
  {
   "cell_type": "code",
   "execution_count": 7,
   "id": "650e1802",
   "metadata": {},
   "outputs": [
    {
     "name": "stdout",
     "output_type": "stream",
     "text": [
      "3\n",
      "Johnny Depp\n"
     ]
    }
   ],
   "source": [
    "x = 1\n",
    "y = 2\n",
    "z = x + y\n",
    "print(z)\n",
    "\n",
    "first_name = \"Johnny\"\n",
    "last_name = \"Depp\"\n",
    "whole_name = first_name + \" \" + last_name\n",
    "print(whole_name)"
   ]
  },
  {
   "cell_type": "markdown",
   "id": "eef60403",
   "metadata": {},
   "source": [
    "也可以像这样为多个变量进行赋值"
   ]
  },
  {
   "cell_type": "code",
   "execution_count": 8,
   "id": "7b330d8c",
   "metadata": {},
   "outputs": [
    {
     "name": "stdout",
     "output_type": "stream",
     "text": [
      "3 4\n"
     ]
    }
   ],
   "source": [
    "a, b = 3, 4\n",
    "print(a, b)"
   ]
  },
  {
   "cell_type": "markdown",
   "id": "94d35120",
   "metadata": {},
   "source": [
    "不支持在数字和字符串之间混合运算符："
   ]
  },
  {
   "cell_type": "code",
   "execution_count": 9,
   "id": "625f432c",
   "metadata": {},
   "outputs": [
    {
     "ename": "TypeError",
     "evalue": "unsupported operand type(s) for +: 'int' and 'str'",
     "output_type": "error",
     "traceback": [
      "\u001b[0;31m---------------------------------------------------------------------------\u001b[0m",
      "\u001b[0;31mTypeError\u001b[0m                                 Traceback (most recent call last)",
      "Cell \u001b[0;32mIn[9], line 6\u001b[0m\n\u001b[1;32m      3\u001b[0m two \u001b[38;5;241m=\u001b[39m \u001b[38;5;241m2\u001b[39m\n\u001b[1;32m      4\u001b[0m hello \u001b[38;5;241m=\u001b[39m \u001b[38;5;124m\"\u001b[39m\u001b[38;5;124mhello\u001b[39m\u001b[38;5;124m\"\u001b[39m\n\u001b[0;32m----> 6\u001b[0m \u001b[38;5;28mprint\u001b[39m(\u001b[43mone\u001b[49m\u001b[43m \u001b[49m\u001b[38;5;241;43m+\u001b[39;49m\u001b[43m \u001b[49m\u001b[43mtwo\u001b[49m\u001b[43m \u001b[49m\u001b[38;5;241;43m+\u001b[39;49m\u001b[43m \u001b[49m\u001b[43mhello\u001b[49m)\n",
      "\u001b[0;31mTypeError\u001b[0m: unsupported operand type(s) for +: 'int' and 'str'"
     ]
    }
   ],
   "source": [
    "# This will not work!\n",
    "one = 1\n",
    "two = 2\n",
    "hello = \"hello\"\n",
    "\n",
    "print(one + two + hello)"
   ]
  },
  {
   "cell_type": "markdown",
   "id": "74c1b9cf",
   "metadata": {},
   "source": [
    "## List\n",
    "`list`与数组非常相似。 它们可以包含任何类型的变量，并且可以包含任意数量的变量。 \n",
    "`list`也可以以非常简单的方式进行迭代。 "
   ]
  },
  {
   "cell_type": "code",
   "execution_count": 10,
   "id": "9733ba34",
   "metadata": {},
   "outputs": [
    {
     "name": "stdout",
     "output_type": "stream",
     "text": [
      "['a', [5, 6]]\n",
      "a\n",
      "[5, 6]\n",
      "1\n",
      "2\n",
      "3\n",
      "a\n",
      "[5, 6]\n",
      "1\n",
      "2\n",
      "3\n"
     ]
    }
   ],
   "source": [
    "mylist = ['a', [5,6]] # initi\n",
    "print(mylist)\n",
    "\n",
    "# add element to the end of the list\n",
    "mylist.append(1)\n",
    "mylist.append(2)\n",
    "mylist.append(3)\n",
    "\n",
    "for i in range(len(mylist)):\n",
    "    print(mylist[i])\n",
    "\n",
    "# prints out 1,2,3\n",
    "for x in mylist:\n",
    "    print(x)"
   ]
  },
  {
   "cell_type": "markdown",
   "id": "818cca34",
   "metadata": {},
   "source": [
    "访问不存在的索引会产生异常（错误）。"
   ]
  },
  {
   "cell_type": "code",
   "execution_count": 11,
   "id": "1b82a1f3",
   "metadata": {},
   "outputs": [
    {
     "ename": "IndexError",
     "evalue": "list index out of range",
     "output_type": "error",
     "traceback": [
      "\u001b[0;31m---------------------------------------------------------------------------\u001b[0m",
      "\u001b[0;31mIndexError\u001b[0m                                Traceback (most recent call last)",
      "Cell \u001b[0;32mIn[11], line 2\u001b[0m\n\u001b[1;32m      1\u001b[0m mylist \u001b[38;5;241m=\u001b[39m [\u001b[38;5;241m1\u001b[39m,\u001b[38;5;241m2\u001b[39m,\u001b[38;5;241m3\u001b[39m]\n\u001b[0;32m----> 2\u001b[0m \u001b[38;5;28mprint\u001b[39m(\u001b[43mmylist\u001b[49m\u001b[43m[\u001b[49m\u001b[38;5;241;43m10\u001b[39;49m\u001b[43m]\u001b[49m)\n",
      "\u001b[0;31mIndexError\u001b[0m: list index out of range"
     ]
    }
   ],
   "source": [
    "mylist = [1,2,3]\n",
    "print(mylist[10])"
   ]
  },
  {
   "cell_type": "markdown",
   "id": "a45d9ef7",
   "metadata": {},
   "source": [
    "## 基本运算符\n",
    "本节介绍如何在 Python 中使用基本运算符。\n",
    "\n",
    "### 算术运算符\n",
    "就像任何其他编程语言一样，加法、减法、乘法和除法运算符可以与数字一起使用。"
   ]
  },
  {
   "cell_type": "code",
   "execution_count": 12,
   "id": "7900453b",
   "metadata": {},
   "outputs": [
    {
     "name": "stdout",
     "output_type": "stream",
     "text": [
      "2.5\n"
     ]
    }
   ],
   "source": [
    "number = 1 + 2 * 3 / 4.0\n",
    "print(number)"
   ]
  },
  {
   "cell_type": "markdown",
   "id": "0a9eeff6",
   "metadata": {},
   "source": [
    "另一个可用的运算符是模 `%` 运算符，它返回除法的整数余数。 `被除数 % 除数 = 余数`。"
   ]
  },
  {
   "cell_type": "code",
   "execution_count": 13,
   "id": "0fd5e27f",
   "metadata": {},
   "outputs": [
    {
     "name": "stdout",
     "output_type": "stream",
     "text": [
      "2\n"
     ]
    }
   ],
   "source": [
    "remainder = 11 % 3\n",
    "print(remainder)"
   ]
  },
  {
   "cell_type": "markdown",
   "id": "387d308d",
   "metadata": {},
   "source": [
    "使用两个乘法符号可以建立幂关系。"
   ]
  },
  {
   "cell_type": "code",
   "execution_count": 14,
   "id": "be8da6f0",
   "metadata": {},
   "outputs": [
    {
     "name": "stdout",
     "output_type": "stream",
     "text": [
      "49\n",
      "8\n"
     ]
    }
   ],
   "source": [
    "squared = 7 ** 2\n",
    "cubed = 2 ** 3\n",
    "print(squared)\n",
    "print(cubed)"
   ]
  },
  {
   "cell_type": "markdown",
   "id": "6624b8f6",
   "metadata": {},
   "source": [
    "### 对字符串使用运算符\n",
    "Python 支持使用加法运算符连接字符串："
   ]
  },
  {
   "cell_type": "code",
   "execution_count": 15,
   "id": "0bcc6a30",
   "metadata": {},
   "outputs": [
    {
     "name": "stdout",
     "output_type": "stream",
     "text": [
      "hello world\n"
     ]
    }
   ],
   "source": [
    "helloworld = \"hello\" + \" \" + \"world\"\n",
    "print(helloworld)"
   ]
  },
  {
   "cell_type": "markdown",
   "id": "b09449e0",
   "metadata": {},
   "source": [
    "Python 还支持将字符串相乘以形成具有重复序列的字符串："
   ]
  },
  {
   "cell_type": "code",
   "execution_count": 16,
   "id": "3e4d0066",
   "metadata": {},
   "outputs": [
    {
     "name": "stdout",
     "output_type": "stream",
     "text": [
      "hellohellohellohellohellohellohellohellohellohello\n"
     ]
    }
   ],
   "source": [
    "lotsofhellos = \"hello\" * 10\n",
    "print(lotsofhellos)"
   ]
  },
  {
   "cell_type": "markdown",
   "id": "f8b66529",
   "metadata": {},
   "source": [
    "### 将运算符与列表一起使用\n",
    "列表可以与加法运算符连接："
   ]
  },
  {
   "cell_type": "code",
   "execution_count": 17,
   "id": "a58df2d3",
   "metadata": {},
   "outputs": [
    {
     "name": "stdout",
     "output_type": "stream",
     "text": [
      "[1, 3, 5, 7, 2, 4, 6, 8]\n"
     ]
    }
   ],
   "source": [
    "even_numbers = [2,4,6,8]\n",
    "odd_numbers = [1,3,5,7]\n",
    "all_numbers = odd_numbers + even_numbers\n",
    "print(all_numbers)"
   ]
  },
  {
   "cell_type": "markdown",
   "id": "75456353",
   "metadata": {},
   "source": [
    "就像在字符串中一样，Python 支持使用乘法运算符形成具有重复序列的新列表："
   ]
  },
  {
   "cell_type": "code",
   "execution_count": 18,
   "id": "8b8d731a",
   "metadata": {},
   "outputs": [
    {
     "name": "stdout",
     "output_type": "stream",
     "text": [
      "[1, 2, 3, 1, 2, 3, 1, 2, 3]\n"
     ]
    }
   ],
   "source": [
    "print([1,2,3] * 3)"
   ]
  },
  {
   "cell_type": "markdown",
   "id": "b9e6a4de",
   "metadata": {},
   "source": [
    "## 字符串格式\n",
    "Python 使用 C 风格的字符串格式化来创建新的格式化字符串。 \n",
    "`%`运算符用于格式化包含在`tuple`（固定大小列表）中的一组变量，以及格式字符串，\n",
    "其中包含普通文本和“参数说明符”，特殊符号，如`%s` 和`%d`。\n",
    "\n",
    "假设有一个名为`name`的变量，其中包含你用户名，然后你想打印。"
   ]
  },
  {
   "cell_type": "code",
   "execution_count": 19,
   "id": "592f9341",
   "metadata": {},
   "outputs": [
    {
     "name": "stdout",
     "output_type": "stream",
     "text": [
      "Hello, John!\n"
     ]
    }
   ],
   "source": [
    "# This prints out \"Hello, John!\"\n",
    "name = \"John\"\n",
    "print(\"Hello, %s!\" % name)"
   ]
  },
  {
   "cell_type": "markdown",
   "id": "24caab48",
   "metadata": {},
   "source": [
    "要使用两个或多个参数说明符，请使用`tuple`（括号）："
   ]
  },
  {
   "cell_type": "code",
   "execution_count": 20,
   "id": "1eacfc5f",
   "metadata": {},
   "outputs": [
    {
     "name": "stdout",
     "output_type": "stream",
     "text": [
      "John is 23 years old.\n"
     ]
    }
   ],
   "source": [
    "# This prints out \"John is 23 years old.\"\n",
    "name = \"John\"\n",
    "age = 23\n",
    "print(\"%s is %d years old.\" % (name, age))"
   ]
  },
  {
   "cell_type": "markdown",
   "id": "f8e987ab",
   "metadata": {},
   "source": [
    "任何不是字符串的对象也可以使用 `%s` 运算符进行格式化。例如："
   ]
  },
  {
   "cell_type": "code",
   "execution_count": 21,
   "id": "dde30d35",
   "metadata": {},
   "outputs": [
    {
     "name": "stdout",
     "output_type": "stream",
     "text": [
      "A list: [1, 2, 3]\n"
     ]
    }
   ],
   "source": [
    "# This prints out: A list: [1, 2, 3]\n",
    "mylist = [1,2,3]\n",
    "print(\"A list: %s\" % mylist)"
   ]
  },
  {
   "cell_type": "markdown",
   "id": "50bd52e8",
   "metadata": {},
   "source": [
    "以下是应该知道的一些基本参数说明符：\n",
    "\n",
    "`%s` - 字符串（或任何具有字符串表示的对象，如数字\n",
    "\n",
    "`%d` - 整数\n",
    "\n",
    "`%f` - 浮点数\n",
    "\n",
    "`%.<number of digits>f` - 点右侧具有固定位数的浮点数。\n",
    "\n",
    "`%x/%X` - 十六进制表示的整数（小写/大写）"
   ]
  },
  {
   "cell_type": "markdown",
   "id": "03dbb1c6",
   "metadata": {},
   "source": [
    "## 基本字符串操作\n",
    "字符串是一些文本。 它们可以定义为引号之间的任何内容："
   ]
  },
  {
   "cell_type": "code",
   "execution_count": 22,
   "id": "d3d7c04e",
   "metadata": {},
   "outputs": [],
   "source": [
    "astring = \"Hello world!\"\n",
    "astring2 = 'Hello world!'"
   ]
  },
  {
   "cell_type": "markdown",
   "id": "7d4743c2",
   "metadata": {},
   "source": [
    "你学到的第一件事是打印一个简单的句子。 \n",
    "这句话被 Python 存储为一个字符串。 \n",
    "但是，我们不会立即打印字符串，而是探索你可以对它们执行的各种操作。 \n",
    "你还可以使用单引号来分配字符串。 \n",
    "但是，如果要分配的值本身包含单引号，你将面临问题。 \n",
    "例如，要在这些括号中分配字符串（单引号是 ' '），你只需要像这样使用双引号"
   ]
  },
  {
   "cell_type": "code",
   "execution_count": 23,
   "id": "cae33d51",
   "metadata": {},
   "outputs": [
    {
     "name": "stdout",
     "output_type": "stream",
     "text": [
      "single quotes are ' '\n",
      "12\n"
     ]
    }
   ],
   "source": [
    "astring = \"Hello world!\"\n",
    "print(\"single quotes are ' '\")\n",
    "\n",
    "print(len(astring))"
   ]
  },
  {
   "cell_type": "markdown",
   "id": "ed06865e",
   "metadata": {},
   "source": [
    "打印出 12，因为“Hello world！” 长度为 12 个字符，包括标点符号和空格。 "
   ]
  },
  {
   "cell_type": "code",
   "execution_count": 24,
   "id": "c1cb285e",
   "metadata": {},
   "outputs": [
    {
     "name": "stdout",
     "output_type": "stream",
     "text": [
      "4\n"
     ]
    }
   ],
   "source": [
    "astring = \"Hello world!\"\n",
    "print(astring.index(\"o\"))"
   ]
  },
  {
   "cell_type": "markdown",
   "id": "680204ac",
   "metadata": {},
   "source": [
    "打印出 4，因为第一次出现字母“o”的位置距离第一个字符 4 个字符。 \n",
    "请注意短语中实际上有两个 o - 此方法仅识别第一个。\n",
    "\n",
    "但是为什么没有打印出 5？ “o”不是字符串中的第五个字符吗？ \n",
    "为了使事情更简单，Python（和大多数其他编程语言）从 0 而不是 1 开始。所以“o”的索引是 4。"
   ]
  },
  {
   "cell_type": "code",
   "execution_count": 25,
   "id": "25ce9c57",
   "metadata": {},
   "outputs": [
    {
     "name": "stdout",
     "output_type": "stream",
     "text": [
      "3\n"
     ]
    }
   ],
   "source": [
    "astring = \"Hello world!\"\n",
    "print(astring.count(\"l\"))"
   ]
  },
  {
   "cell_type": "markdown",
   "id": "241a82bb",
   "metadata": {},
   "source": [
    "这会计算字符串中 l 的数量。 因此，它应该打印 3。"
   ]
  },
  {
   "cell_type": "code",
   "execution_count": 26,
   "id": "957b515c",
   "metadata": {},
   "outputs": [
    {
     "name": "stdout",
     "output_type": "stream",
     "text": [
      "lo w\n"
     ]
    }
   ],
   "source": [
    "astring = \"Hello world!\"\n",
    "print(astring[3:7])"
   ]
  },
  {
   "cell_type": "markdown",
   "id": "7779408e",
   "metadata": {},
   "source": [
    "这将打印字符串的一部分，从索引 3 开始，到索引 6 结束。\n",
    "但是为什么是 6 而不是 7？ \n",
    "同样，大多数编程语言都这样做 - 它使在这些括号内做数学变得更容易。\n",
    "\n",
    "如果括号中只有一个数字，它将为您提供该索引处的单个字符。 \n",
    "如果你遗漏了第一个数字但保留了冒号，它会给你一个从开头到你留下的数字的切片。\n",
    "如果你遗漏了第二个数字，它会给你一个从第一个数字到结尾的切片。\n",
    "\n",
    "你甚至可以将负数放在括号内。 它们是从字符串末尾而不是开头开始的简单方法。 这样，-3 表示“倒数第三个字符”。"
   ]
  },
  {
   "cell_type": "code",
   "execution_count": 27,
   "id": "6dfa7208",
   "metadata": {},
   "outputs": [
    {
     "name": "stdout",
     "output_type": "stream",
     "text": [
      "l \n"
     ]
    }
   ],
   "source": [
    "astring = \"Hello world!\"\n",
    "print(astring[3:7:2])"
   ]
  },
  {
   "cell_type": "markdown",
   "id": "8990b964",
   "metadata": {},
   "source": [
    "这将跳过一个字符打印从 3 到 7 的字符串字符。 这是扩展切片语法。 一般形式是[开始:停止:步长]。"
   ]
  },
  {
   "cell_type": "code",
   "execution_count": 28,
   "id": "0df06e16",
   "metadata": {},
   "outputs": [
    {
     "name": "stdout",
     "output_type": "stream",
     "text": [
      "lo w\n",
      "lo w\n"
     ]
    }
   ],
   "source": [
    "astring = \"Hello world!\"\n",
    "print(astring[3:7])\n",
    "print(astring[3:7:1])"
   ]
  },
  {
   "cell_type": "markdown",
   "id": "96fb919c",
   "metadata": {},
   "source": [
    "请注意，它们都产生相同的输出\n",
    "\n",
    "C 中没有像 `strrev` 这样的函数来反转字符串。 但是使用上面提到的切片语法类型，您可以轻松地反转这样的字符串"
   ]
  },
  {
   "cell_type": "code",
   "execution_count": 29,
   "id": "91bf7a62",
   "metadata": {},
   "outputs": [
    {
     "name": "stdout",
     "output_type": "stream",
     "text": [
      "!dlrow olleH\n"
     ]
    }
   ],
   "source": [
    "astring = \"Hello world!\"\n",
    "print(astring[::-1])"
   ]
  },
  {
   "cell_type": "code",
   "execution_count": 30,
   "id": "a935dad2",
   "metadata": {},
   "outputs": [
    {
     "name": "stdout",
     "output_type": "stream",
     "text": [
      "HELLO WORLD!\n",
      "hello world!\n"
     ]
    }
   ],
   "source": [
    "astring = \"Hello world!\"\n",
    "print(astring.upper())\n",
    "print(astring.lower())"
   ]
  },
  {
   "cell_type": "markdown",
   "id": "787ad071",
   "metadata": {},
   "source": [
    "这些创建了一个新字符串，其中所有字母分别转换为大写和小写。"
   ]
  },
  {
   "cell_type": "code",
   "execution_count": 31,
   "id": "ca408f34",
   "metadata": {},
   "outputs": [
    {
     "name": "stdout",
     "output_type": "stream",
     "text": [
      "True\n",
      "False\n"
     ]
    }
   ],
   "source": [
    "astring = \"Hello world!\"\n",
    "print(astring.startswith(\"Hello\"))\n",
    "print(astring.endswith(\"asdfasdfasdf\"))"
   ]
  },
  {
   "cell_type": "markdown",
   "id": "b86b9cc8",
   "metadata": {},
   "source": [
    "这用于确定字符串是分别以某物开头还是以某物结尾。 \n",
    "第一个将打印 True，因为字符串以“Hello”开头。 \n",
    "第二个将打印 False，因为字符串肯定不会以“asdfasdfasdf”结尾。"
   ]
  },
  {
   "cell_type": "code",
   "execution_count": 32,
   "id": "9186d6f5",
   "metadata": {},
   "outputs": [],
   "source": [
    "astring = \"Hello world!\"\n",
    "afewwords = astring.split(\" \")"
   ]
  },
  {
   "cell_type": "markdown",
   "id": "e25e5f23",
   "metadata": {},
   "source": [
    "这会将字符串拆分为一组字符串，这些字符串在列表中组合在一起。 \n",
    "由于此示例在空格处拆分，因此列表中的第一项将是“Hello”，第二项将是“world！”。"
   ]
  },
  {
   "cell_type": "markdown",
   "id": "935d7151",
   "metadata": {},
   "source": [
    "## 条件\n",
    "Python 使用布尔逻辑来评估条件。 比较或评估表达式时返回布尔值 True 和 False。 例如："
   ]
  },
  {
   "cell_type": "code",
   "execution_count": 33,
   "id": "7a34bd02",
   "metadata": {},
   "outputs": [
    {
     "name": "stdout",
     "output_type": "stream",
     "text": [
      "True\n",
      "False\n",
      "True\n"
     ]
    }
   ],
   "source": [
    "x = 2\n",
    "print(x == 2) # prints out True\n",
    "print(x == 3) # prints out False\n",
    "print(x < 3) # prints out True"
   ]
  },
  {
   "cell_type": "markdown",
   "id": "67e0128b",
   "metadata": {},
   "source": [
    "请注意，变量赋值是使用单个等号运算符`=`完成的，而两个变量之间的比较是使用双等号运算符`==`完成的。 “不等于”运算符标记为`！=`。\n",
    "\n",
    "### 布尔运算符\n",
    "`and`和`or`布尔运算符允许构建复杂的布尔表达式，例如："
   ]
  },
  {
   "cell_type": "code",
   "execution_count": 34,
   "id": "6c64fbe4",
   "metadata": {},
   "outputs": [
    {
     "name": "stdout",
     "output_type": "stream",
     "text": [
      "Your name is John, and you are also 23 years old.\n",
      "Your name is either John or Rick.\n"
     ]
    }
   ],
   "source": [
    "name = \"John\"\n",
    "age = 23\n",
    "if name == \"John\" and age == 23:\n",
    "    print(\"Your name is John, and you are also 23 years old.\")\n",
    "\n",
    "if name == \"John\" or name == \"Rick\":\n",
    "    print(\"Your name is either John or Rick.\")"
   ]
  },
  {
   "cell_type": "markdown",
   "id": "0b76ce8e",
   "metadata": {},
   "source": [
    "### “in”运算符\n",
    "“in”运算符可用于检查指定对象是否存在于可迭代对象容器中，例如列表："
   ]
  },
  {
   "cell_type": "code",
   "execution_count": 35,
   "id": "576b25e3",
   "metadata": {},
   "outputs": [
    {
     "name": "stdout",
     "output_type": "stream",
     "text": [
      "Your name is either John or Rick.\n"
     ]
    }
   ],
   "source": [
    "name = \"John\"\n",
    "if name in [\"John\", \"Rick\"]:\n",
    "    print(\"Your name is either John or Rick.\")"
   ]
  },
  {
   "cell_type": "markdown",
   "id": "f001094b",
   "metadata": {},
   "source": [
    "Python 使用缩进来定义代码块，而不是括号。 \n",
    "标准的 Python 缩进是 4 个空格，尽管制表符和任何其他空格大小都可以使用，只要它是一致的。 \n",
    "请注意，代码块不需要任何终止。\n",
    "\n",
    "以下是使用代码块使用 Python 的“if”语句的示例："
   ]
  },
  {
   "cell_type": "code",
   "execution_count": 36,
   "id": "d782e954",
   "metadata": {},
   "outputs": [],
   "source": [
    "statement = False\n",
    "another_statement = True\n",
    "if statement is True:\n",
    "    # do something\n",
    "    pass\n",
    "elif another_statement is True: # else if\n",
    "    # do something else\n",
    "    pass\n",
    "else:\n",
    "    # do another thing\n",
    "    pass"
   ]
  },
  {
   "cell_type": "markdown",
   "id": "1b23fadb",
   "metadata": {},
   "source": [
    "例如："
   ]
  },
  {
   "cell_type": "code",
   "execution_count": 37,
   "id": "7548c8d1",
   "metadata": {},
   "outputs": [
    {
     "name": "stdout",
     "output_type": "stream",
     "text": [
      "x equals two!\n"
     ]
    }
   ],
   "source": [
    "x = 2\n",
    "if x == 2:\n",
    "    print(\"x equals two!\")\n",
    "else:\n",
    "    print(\"x does not equal to two.\")"
   ]
  },
  {
   "cell_type": "markdown",
   "id": "3bc889b2",
   "metadata": {},
   "source": [
    "如果以下其中一项正确，则将语句评估为真： \n",
    "\n",
    "1. 给出`True`布尔变量，或使用表达式计算，例如算术比较。 \n",
    "\n",
    "2.传递了一个不被认为是“空”的对象。\n",
    "\n",
    "以下是一些被视为空的对象的示例： \n",
    "\n",
    "1. 空字符串：`“”` \n",
    "\n",
    "2. 空列表：`[]` \n",
    "\n",
    "3. 数字零：`0` \n",
    "\n",
    "4. false 布尔变量：`False`\n",
    "\n",
    "### “is”运算符\n",
    "与双等号运算符`==`不同，`is`运算符不匹配变量的值，而是匹配实例本身。 例如："
   ]
  },
  {
   "cell_type": "code",
   "execution_count": 38,
   "id": "d061e440",
   "metadata": {},
   "outputs": [
    {
     "name": "stdout",
     "output_type": "stream",
     "text": [
      "True\n",
      "False\n",
      "True\n"
     ]
    }
   ],
   "source": [
    "x = [1,2,3]\n",
    "y = [1,2,3]\n",
    "z = x\n",
    "print(x == y) # Prints out True\n",
    "print(x is y) # Prints out False\n",
    "print(x is z) # Prints out True"
   ]
  },
  {
   "cell_type": "markdown",
   "id": "2c993ca2",
   "metadata": {},
   "source": [
    "## “not”运算符\n",
    "在布尔表达式反转它之前使用“not”："
   ]
  },
  {
   "cell_type": "code",
   "execution_count": 39,
   "id": "26e1fb38",
   "metadata": {},
   "outputs": [
    {
     "name": "stdout",
     "output_type": "stream",
     "text": [
      "True\n",
      "False\n"
     ]
    }
   ],
   "source": [
    "print(not False) # Prints out True\n",
    "print((not False) == (False)) # Prints out False"
   ]
  },
  {
   "cell_type": "markdown",
   "id": "cd57370a",
   "metadata": {},
   "source": [
    "## 循环\n",
    "Python中有两种循环，for和while。\n",
    "\n",
    "### “for”循环\n",
    "For 循环遍历给定的序列。 这是一个例子："
   ]
  },
  {
   "cell_type": "code",
   "execution_count": 40,
   "id": "72e33712",
   "metadata": {},
   "outputs": [
    {
     "name": "stdout",
     "output_type": "stream",
     "text": [
      "2\n",
      "3\n",
      "5\n",
      "7\n"
     ]
    }
   ],
   "source": [
    "primes = [2, 3, 5, 7]\n",
    "for prime in primes:\n",
    "    print(prime)"
   ]
  },
  {
   "cell_type": "markdown",
   "id": "18121895",
   "metadata": {},
   "source": [
    "for 循环可以使用 `range`函数迭代一系列数字。 \n",
    "请注意，范围函数是从零开始的。"
   ]
  },
  {
   "cell_type": "code",
   "execution_count": 41,
   "id": "68ef7fdc",
   "metadata": {},
   "outputs": [
    {
     "name": "stdout",
     "output_type": "stream",
     "text": [
      "0\n",
      "1\n",
      "2\n",
      "3\n",
      "4\n",
      "3\n",
      "4\n",
      "5\n",
      "3\n",
      "5\n",
      "7\n"
     ]
    }
   ],
   "source": [
    "# Prints out the numbers 0,1,2,3,4\n",
    "for x in range(5):\n",
    "    print(x)\n",
    "\n",
    "# Prints out 3,4,5\n",
    "for x in range(3, 6):\n",
    "    print(x)\n",
    "\n",
    "# Prints out 3,5,7\n",
    "for x in range(3, 8, 2):\n",
    "    print(x)"
   ]
  },
  {
   "cell_type": "markdown",
   "id": "bf4b6723",
   "metadata": {},
   "source": [
    "### “while”循环\n",
    "只要满足某个布尔条件，while 循环就会重复。 例如："
   ]
  },
  {
   "cell_type": "code",
   "execution_count": 42,
   "id": "c74df5da",
   "metadata": {},
   "outputs": [
    {
     "name": "stdout",
     "output_type": "stream",
     "text": [
      "0\n",
      "1\n",
      "2\n",
      "3\n",
      "4\n"
     ]
    }
   ],
   "source": [
    "# Prints out 0,1,2,3,4\n",
    "\n",
    "count = 0\n",
    "while count < 5:\n",
    "    print(count)\n",
    "    count += 1  # This is the same as count = count + 1"
   ]
  },
  {
   "cell_type": "markdown",
   "id": "f450d5d5",
   "metadata": {},
   "source": [
    "### “break”和“continue”语句\n",
    "break 用于退出 for 循环或 while 循环，而 continue 用于跳过当前块，并返回“for”或“while”语句。 \n",
    "几个例子："
   ]
  },
  {
   "cell_type": "code",
   "execution_count": 43,
   "id": "e07f0883",
   "metadata": {},
   "outputs": [
    {
     "name": "stdout",
     "output_type": "stream",
     "text": [
      "0\n",
      "1\n",
      "2\n",
      "3\n",
      "4\n",
      "1\n",
      "3\n",
      "5\n",
      "7\n",
      "9\n"
     ]
    }
   ],
   "source": [
    "# Prints out 0,1,2,3,4\n",
    "\n",
    "count = 0\n",
    "while True:\n",
    "    print(count)\n",
    "    count += 1\n",
    "    if count >= 5:\n",
    "        break\n",
    "\n",
    "# Prints out only odd numbers - 1,3,5,7,9\n",
    "for x in range(10):\n",
    "    # Check if x is even\n",
    "    if x % 2 == 0:\n",
    "        continue\n",
    "    print(x)"
   ]
  },
  {
   "cell_type": "markdown",
   "id": "8118c137",
   "metadata": {},
   "source": [
    "### 我们可以对循环使用“else”子句吗？\n",
    "与 C、CPP 等语言不同，我们可以使用 else 循环。 \n",
    "当“for”或“while”语句的循环条件失败时，将执行“else”中的代码部分。 \n",
    "如果在 for 循环内执行了 break 语句，则跳过“else”部分。 请注意，即使有 continue 语句，也会执行“else”部分。\n",
    "\n",
    "这里有一些例子："
   ]
  },
  {
   "cell_type": "code",
   "execution_count": 44,
   "id": "af41750e",
   "metadata": {},
   "outputs": [
    {
     "name": "stdout",
     "output_type": "stream",
     "text": [
      "0\n",
      "1\n",
      "2\n",
      "3\n",
      "4\n",
      "count value reached 5\n",
      "1\n",
      "2\n",
      "3\n",
      "4\n"
     ]
    }
   ],
   "source": [
    "# Prints out 0,1,2,3,4 and then it prints \"count value reached 5\"\n",
    "\n",
    "count=0\n",
    "while(count<5):\n",
    "    print(count)\n",
    "    count +=1\n",
    "else:\n",
    "    print(\"count value reached %d\" %(count))\n",
    "\n",
    "# Prints out 1,2,3,4\n",
    "for i in range(1, 10):\n",
    "    if(i%5==0):\n",
    "        break\n",
    "    print(i)\n",
    "else:\n",
    "    print(\"this is not printed because for loop is terminated because of break but not due to fail in condition\")"
   ]
  },
  {
   "cell_type": "markdown",
   "id": "100df2b2",
   "metadata": {},
   "source": [
    "## 函数\n",
    "### 什么是函数？\n",
    "函数是一种将代码划分为有用块的便捷方式，允许我们对代码进行排序、使其更具可读性、重用并节省一些时间。 \n",
    "此外，函数是定义接口的关键方式，因此程序员可以共享他们的代码。\n",
    "\n",
    "### 你如何在 Python 中编写函数？\n",
    "正如我们在之前的教程中看到的，Python 使用了块。\n",
    "\n",
    "块是一个代码区域，格式为：\n",
    "\n",
    "```\n",
    "block_head:\n",
    "    1st block line\n",
    "    2nd block line\n",
    "    ...\n",
    "```"
   ]
  },
  {
   "cell_type": "markdown",
   "id": "90e95a39",
   "metadata": {},
   "source": [
    "python 中的函数是使用块关键字“def”定义的，后跟函数的名称作为块的名称。 例如："
   ]
  },
  {
   "cell_type": "code",
   "execution_count": 45,
   "id": "9108596b",
   "metadata": {},
   "outputs": [],
   "source": [
    "def my_function():\n",
    "    print(\"Hello From My Function!\")"
   ]
  },
  {
   "cell_type": "markdown",
   "id": "eca2ed07",
   "metadata": {},
   "source": [
    "函数也可以接收参数（从调用者传递给函数的变量）。 例如："
   ]
  },
  {
   "cell_type": "code",
   "execution_count": 46,
   "id": "48fba961",
   "metadata": {},
   "outputs": [],
   "source": [
    "def my_function_with_args(username, greeting):\n",
    "    print(\"Hello, %s , From My Function!, I wish you %s\"%(username, greeting))"
   ]
  },
  {
   "cell_type": "markdown",
   "id": "849dc5e8",
   "metadata": {},
   "source": [
    "函数可以使用关键字“return”向调用者返回一个值。 例如："
   ]
  },
  {
   "cell_type": "code",
   "execution_count": 47,
   "id": "882b45ee",
   "metadata": {},
   "outputs": [],
   "source": [
    "def sum_two_numbers(a, b):\n",
    "    return a + b"
   ]
  },
  {
   "cell_type": "markdown",
   "id": "da5057fe",
   "metadata": {},
   "source": [
    "如何在 Python 中调用函数？\n",
    "只需在 () 后写函数名称，将任何所需的参数放在括号内。 例如，让我们调用上面写的函数（在前面的例子中）："
   ]
  },
  {
   "cell_type": "code",
   "execution_count": 48,
   "id": "47e96792",
   "metadata": {},
   "outputs": [
    {
     "name": "stdout",
     "output_type": "stream",
     "text": [
      "Hello From My Function!\n",
      "Hello, John Doe, From My Function!, I wish you a great year!\n"
     ]
    }
   ],
   "source": [
    "# Define our 3 functions\n",
    "def my_function():\n",
    "    print(\"Hello From My Function!\")\n",
    "\n",
    "def my_function_with_args(username, greeting):\n",
    "    print(\"Hello, %s, From My Function!, I wish you %s\"%(username, greeting))\n",
    "\n",
    "def sum_two_numbers(a, b):\n",
    "    return a + b\n",
    "\n",
    "# print(a simple greeting)\n",
    "my_function()\n",
    "\n",
    "#prints - \"Hello, John Doe, From My Function!, I wish you a great year!\"\n",
    "my_function_with_args(\"John Doe\", \"a great year!\")\n",
    "\n",
    "# after this line x will hold the value 3!\n",
    "x = sum_two_numbers(1,2)"
   ]
  },
  {
   "cell_type": "markdown",
   "id": "0d53cc3a",
   "metadata": {},
   "source": [
    "## 科学计算 NUMPY\n",
    "https://numpy.org\n",
    "\n",
    "入门教程：https://numpy.org/doc/stable/user/absolute_beginners.html"
   ]
  },
  {
   "cell_type": "markdown",
   "id": "7fc1d1a9",
   "metadata": {},
   "source": [
    "## 可视化 MATPLOTLIB\n",
    "https://matplotlib.org\n",
    "\n",
    "入门教程：https://matplotlib.org/stable/users/explain/quick_start.html"
   ]
  },
  {
   "cell_type": "markdown",
   "id": "53aee24a",
   "metadata": {},
   "source": [
    "## 练习\n",
    "请完成以下练习\n",
    "\n",
    "1. 随机生成1000个均值为0，方差为1的高斯分布的样本，可以使用`np.random.normal`。\n",
    "2. 画出这1000个高斯分布样本的直方图，注意：纵轴要显示样本数量，可以使用`matplotlib.pyplot.hist`。\n",
    "3. 在样本直方图上，叠加画出标准高斯分布的概率密度函数，通过改变概率密度的幅度，使其与样本直方图大致重合。\n",
    "\n"
   ]
  },
  {
   "cell_type": "code",
   "execution_count": 3,
   "id": "6f1b1457",
   "metadata": {},
   "outputs": [],
   "source": [
    "import numpy as np\n",
    "import matplotlib.pyplot as plt\n",
    "\n"
   ]
  },
  {
   "cell_type": "markdown",
   "id": "d7454305",
   "metadata": {},
   "source": [
    "## 练习\n",
    "请完成以下练习中的四个函数"
   ]
  },
  {
   "cell_type": "code",
   "execution_count": 6,
   "id": "80f0ca29",
   "metadata": {},
   "outputs": [
    {
     "name": "stdout",
     "output_type": "stream",
     "text": [
      "An example of how to use the log function:\n",
      "The logarithmic of px[0] is -1.000\n",
      "Test 1:\n",
      "The entropy of x with p.d. px is 1.000\n",
      "The entropy of x with p.d. qx is 1.410\n",
      "The entropy of x with p.d. qy is 0.964\n",
      "Test 2:\n",
      "The relative entropy of x with p.d. px and qx is 1.216\n",
      "Test 3:\n",
      "The joint entropy of x, y with p.d. qxy is 2.289\n",
      "Test 4:\n",
      "The mutual information of x, y with p.d. qxy is 0.086\n",
      "Test 5:\n",
      "0.0 should be zero\n",
      "Test 6:\n",
      "-0.08582768631858206 should be negative\n",
      "Test 7:\n",
      "4.440892098500626e-16 should be zero\n"
     ]
    }
   ],
   "source": [
    "import numpy as np\n",
    "import math\n",
    "import scipy\n",
    "\n",
    "def log(x):\n",
    "    return math.log(x, 2)\n",
    "\n",
    "def my_log(x):\n",
    "    return np.log2(x)\n",
    "\n",
    "def entropy(px):\n",
    "    # return the entropy of the random variable 'x' with probability distribution 'px'  \n",
    "    px=np.array(px)   \n",
    "    S=-np.sum(px[px!=0]*my_log(px[px!=0])) \n",
    "    return S\n",
    "\n",
    "def relative_entropy(px, qx):\n",
    "    # return the relative entropy of the random variable 'x' with probability distribution 'px' and 'qx' \n",
    "    px=np.array(px)\n",
    "    qx=np.array(qx)\n",
    "    assert px.shape==qx.shape, \"the shape between px and qx must be equal !\"\n",
    "\n",
    "    D=np.sum(px[px!=0]*my_log(px[px!=0]/qx[px!=0])) #(Kullback-Leibler divergence)\n",
    "    return D\n",
    "\n",
    "def joint_entropy(pxy):\n",
    "    # return the joint entropy of the random variable 'x' and 'y' with joint p.d. 'pxy'\n",
    "    pxy=np.array(pxy)\n",
    "    H=-np.sum(pxy*my_log(pxy))\n",
    "    return H\n",
    "\n",
    "def mutual_infomation(px, py, pxy):\n",
    "    # return the mutual information of I(x;y)\n",
    "    px=np.array(px)  \n",
    "    py=np.array(py) \n",
    "    pxy=np.array(pxy)\n",
    "    I=np.sum(pxy*my_log(pxy/np.outer(px,py)))\n",
    "    return I\n",
    "\n",
    "\n",
    "px = [1/2, 1/2,  0]\n",
    "\n",
    "qx = [5/36, 1/3, 19/36]\n",
    "qy = [7/18, 11/18]\n",
    "qxy = [[1/18, 1/12], [1/18, 5/18], [5/18, 1/4]]\n",
    "\n",
    "u = [1/3, 1/3, 1/3]\n",
    "\n",
    "\n",
    "print(\"An example of how to use the log function:\")\n",
    "print(\"The logarithmic of px[0] is %.3f\" %log(px[0]))\n",
    "\n",
    "\n",
    "# Test 1:\n",
    "print(\"Test 1:\")\n",
    "print(\"The entropy of x with p.d. px is %.3f\" % entropy(px))\n",
    "print(\"The entropy of x with p.d. qx is %.3f\" % entropy(qx))\n",
    "print(\"The entropy of x with p.d. qy is %.3f\" % entropy(qy))\n",
    "\n",
    "\n",
    "# Test 2:\n",
    "print(\"Test 2:\")\n",
    "print(\"The relative entropy of x with p.d. px and qx is %.3f\" % relative_entropy(px, qx))\n",
    "\n",
    "# Test 3:\n",
    "print(\"Test 3:\")\n",
    "print(\"The joint entropy of x, y with p.d. qxy is %.3f\" % joint_entropy(qxy))\n",
    "\n",
    "# Test 4:\n",
    "print(\"Test 4:\")\n",
    "print(\"The mutual information of x, y with p.d. qxy is %.3f\" % mutual_infomation(qx, qy, qxy))\n",
    "\n",
    "# Test 5:\n",
    "print(\"Test 5:\")\n",
    "print(relative_entropy(px, u) - log(len(px)) + entropy(px), \"should be zero\")\n",
    "\n",
    "# Test 6:\n",
    "print(\"Test 6:\")\n",
    "print(joint_entropy(qxy) - entropy(qy) - entropy(qx), \"should be negative\")\n",
    "\n",
    "# Test 7:\n",
    "print(\"Test 7:\")\n",
    "print(mutual_infomation(qx, qy, qxy) + joint_entropy(qxy) - entropy(qx) - entropy(qy), \"should be zero\")\n"
   ]
  }
 ],
 "metadata": {
  "kernelspec": {
   "display_name": "Python 3 (ipykernel)",
   "language": "python",
   "name": "python3"
  },
  "language_info": {
   "codemirror_mode": {
    "name": "ipython",
    "version": 3
   },
   "file_extension": ".py",
   "mimetype": "text/x-python",
   "name": "python",
   "nbconvert_exporter": "python",
   "pygments_lexer": "ipython3",
   "version": "3.9.16"
  }
 },
 "nbformat": 4,
 "nbformat_minor": 5
}
