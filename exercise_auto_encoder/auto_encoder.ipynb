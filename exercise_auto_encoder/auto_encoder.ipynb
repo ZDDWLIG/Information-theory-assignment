{
 "cells": [
  {
   "cell_type": "markdown",
   "id": "1d0abac8-c59d-4e57-877c-eb4c274d214b",
   "metadata": {},
   "source": [
    "# 神经网络\n",
    "\n",
    "神经网络是一个函数带参数的函数，通过输入、输出数据来拟合函数中的参数。\n",
    "\n",
    "现在有三个数据\n",
    "\n",
    "$(x_1,y_1)=(0,0)$, $(x_2,y_2)=(1,1.1)$, $(x_3,y_3)=(2.1,2)$\n",
    "\n",
    "这三个测量数据，我们可以看出它大概是个线性趋势，只不过有一些误差，如果我们假设模型是简单的线性模型 $f(x)=ax+b$, 想通过这个模型最好地拟合这三个数据。希望这个模型在的$x$上，可以准确地给出对应的$y$。\n",
    "\n",
    "我们可以让拟合的结果均方误差最小。即\n",
    "\n",
    "$\\arg\\min_{(a,b)} \\frac{1}{3}\\sum_{i=1}^3(f(x_i)-y_i)^2$\n",
    "\n",
    "通过一阶导为0，可以求出$a$和$b$。人工智能或神经网络是同样的过程，只不过是更复杂一些的模型和优化方法。"
   ]
  },
  {
   "cell_type": "markdown",
   "id": "fd642e92-b158-4aa5-80b1-983f543db313",
   "metadata": {},
   "source": [
    "## 任务\n",
    "先考虑不同的任务，比如图像分类，那$x$就是一张图像，是一个矩阵，$y$是类别的编码。比如翻译，那是语言生成任务，$x$是单词的编码序列，$y$是目标语言单词的编码序列。"
   ]
  },
  {
   "cell_type": "markdown",
   "id": "cf1d0f1b-c1a2-4268-9df7-9f4e2ebc5f8f",
   "metadata": {},
   "source": [
    "## 模型\n",
    "神经网络像堆积木一样，有着各种各样的模型，比较基础的是多层感知机或全联接神经网络\n",
    "\n",
    "$a^{(i)}_j = \\sum w^{(i-1)}_{j0} x_0^{(i-1)}+ ... + w^{(i-1)}_{jN^{(i-1)}} x_{N^{(i-1)}}^{(i-1)} + b^{(i-1)}_j$\n",
    "\n",
    "$a^{(i)}_j = \\sigma(x^{(i)}_j)$\n",
    "\n",
    "其中，$\\sigma$为激活函数，用来提供模型中的非线性。全联接神经网络其实是一个高维分段线性函数，所以可以逼近任意函数。只要模型足够大，数据足够多，就可以以任意精度逼近连续函数。"
   ]
  },
  {
   "cell_type": "markdown",
   "id": "260ec93c-cca4-4dfe-9fb9-c8d7b54862b6",
   "metadata": {},
   "source": [
    "## 激活函数\n",
    "常用的激活函数包括$sigmoid=\\frac{1}{1+e^{-x}}$、$relu=\\max(0,x)$等。$sigmoid$可以很好地将输出限制在$(0,1)$之间，但是在神经网络层数太多的时候，会导致梯度消失，增加模型训练难度。"
   ]
  },
  {
   "cell_type": "markdown",
   "id": "e5191dd7-b687-4de2-b4d4-3f53a63cd4cb",
   "metadata": {},
   "source": [
    "# 练习\n",
    "本次作业要实现地是神经网络中的自动编码器，将一个$1\\times 16$的one hot向量，自动编码成一个$(0,1)$之间的实数。实现地方法是先将其编码为一个$(0,1)$之间的数，再解码成$1\\times 16$的向量，使解码之后的向量与原向量一样。\n",
    "\n",
    "例如 $x=[1,0,0,0,0,0,0,0,0,0,0,0,0,0,0,0]$, $g(x)\\in (0,1)$, $f(x) = h(g(x)) \\in (0,1)^{16}$\n",
    "\n",
    "这里 $f(x)$就是神经网络，$g(x)$是编码器，它将$x$编码为一个实数，$h(\\dot)$是一个解码器，他将编码解码为$(0,1)^{16}$的一个数。我们希望通过另$f(x)\\approx x$，实现对$x$的自动编码。"
   ]
  },
  {
   "cell_type": "code",
   "execution_count": 3,
   "id": "a9eb57f9-9dc2-4135-83d7-3f0b0e91ac1a",
   "metadata": {},
   "outputs": [
    {
     "name": "stderr",
     "output_type": "stream",
     "text": [
      "d:\\APP\\Anaconda\\envs\\pytorch\\lib\\site-packages\\tqdm\\auto.py:21: TqdmWarning: IProgress not found. Please update jupyter and ipywidgets. See https://ipywidgets.readthedocs.io/en/stable/user_install.html\n",
      "  from .autonotebook import tqdm as notebook_tqdm\n"
     ]
    },
    {
     "data": {
      "image/png": "[encoded data removed]",
      "text/plain": [
       "<Figure size 640x480 with 1 Axes>"
      ]
     },
     "metadata": {},
     "output_type": "display_data"
    }
   ],
   "source": [
    "# import package for deep learning\n",
    "import torch\n",
    "# import package for visualization\n",
    "import matplotlib.pyplot as plt\n",
    "import warnings\n",
    "warnings.filterwarnings(\"ignore\")\n",
    "\n",
    "# generate data\n",
    "N_samples = 10000 # num of samples \n",
    "N_dim = 16 # number of dimension\n",
    "\n",
    "# initialize as zero vectors\n",
    "x = torch.zeros(N_samples, N_dim)\n",
    "# for each row, randomly choose one of the dimension and set to one\n",
    "idx = torch.randint(0, N_dim, (N_samples,))\n",
    "x[torch.arange(N_samples),idx] = 1\n",
    "\n",
    "# visualize the top 100 samples\n",
    "plt.imshow(x[:100,:])\n",
    "\n",
    "# for the autoencoder, we need to fit the input itself. Thus, we create the dataset as (x,y) <= (x,x)\n",
    "dataset = (x,x)\n",
    "\n",
    "# create a dataloader to automaticly prepare the data batches.\n",
    "loader = torch.utils.data.DataLoader(dataset = dataset,\n",
    "                                     batch_size = 32,\n",
    "                                     shuffle = True)"
   ]
  },
  {
   "cell_type": "code",
   "execution_count": 4,
   "id": "2a760894-5486-406f-a717-5e020e243820",
   "metadata": {},
   "outputs": [],
   "source": [
    "# Creating a PyTorch class\n",
    "class AE(torch.nn.Module):\n",
    "    def __init__(self):\n",
    "        super().__init__()\n",
    "         \n",
    "        # Building an linear encoder with Linear\n",
    "        self.encoder = torch.nn.Sequential(\n",
    "            torch.nn.Linear(16,16),\n",
    "            torch.nn.ReLU(),\n",
    "            torch.nn.Linear(16,8),\n",
    "            torch.nn.ReLU(),\n",
    "            torch.nn.Linear(8, 8),\n",
    "            torch.nn.ReLU(),\n",
    "            torch.nn.Linear(8, 1),\n",
    "            torch.nn.ReLU(),\n",
    "            # --------- Your code here --------- \n",
    "            # ...\n",
    "            # for details of nn.sequential please refer https://pytorch.org/docs/stable/generated/torch.nn.Sequential.html \n",
    "            # for neural network layers and activations, please refer https://pytorch.org/docs/stable/nn.html\n",
    "        )\n",
    "         \n",
    "        # Building an linear decoder with Linear\n",
    "        # layer followed by Relu activation function\n",
    "        # The Softmax activation function\n",
    "        # outputs the value between 0 and 1\n",
    "        self.decoder = torch.nn.Sequential(\n",
    "            # Your can also modify the code below\n",
    "            # --------- Your code here --------- \n",
    "            torch.nn.Linear(1, 8),\n",
    "            torch.nn.ReLU(),\n",
    "            torch.nn.Linear(8, 8),\n",
    "            torch.nn.ReLU(),\n",
    "            torch.nn.Linear(8, 16),\n",
    "            torch.nn.ReLU(),\n",
    "            torch.nn.Linear(16, 16),\n",
    "            torch.nn.Softmax()\n",
    "        )\n",
    " \n",
    "    def forward(self, x):\n",
    "        encoded = self.encoder(x)\n",
    "        decoded = self.decoder(encoded)\n",
    "        return decoded\n",
    "\n",
    "    def encode(self, x):\n",
    "        encoded = self.encoder(x)\n",
    "        return encoded"
   ]
  },
  {
   "cell_type": "code",
   "execution_count": 22,
   "id": "9f7d1d94-5990-4f4d-bf34-896560568397",
   "metadata": {},
   "outputs": [],
   "source": [
    "# Model Initialization\n",
    "model = AE()\n",
    " \n",
    "# Validation using MSE Loss function\n",
    "loss_function = torch.nn.MSELoss()\n",
    " \n",
    "# Using an Adam Optimizer with lr = 0.001\n",
    "optimizer = torch.optim.Adam(model.parameters(), lr = 1e-3)"
   ]
  },
  {
   "cell_type": "code",
   "execution_count": 23,
   "id": "cde62904-c830-4f0a-8459-65430bc5b5c5",
   "metadata": {},
   "outputs": [
    {
     "name": "stdout",
     "output_type": "stream",
     "text": [
      "epoch:0 loss:0.05873\n",
      "epoch:100 loss:0.05853\n",
      "epoch:200 loss:0.05189\n",
      "epoch:300 loss:0.04203\n",
      "epoch:400 loss:0.02771\n",
      "epoch:500 loss:0.01791\n",
      "epoch:600 loss:0.01358\n",
      "epoch:700 loss:0.00906\n",
      "epoch:800 loss:0.00452\n",
      "epoch:900 loss:0.00081\n",
      "epoch:1000 loss:0.00033\n",
      "epoch:1100 loss:0.00019\n",
      "epoch:1200 loss:0.00012\n",
      "epoch:1300 loss:0.00009\n",
      "epoch:1400 loss:0.00007\n",
      "epoch:1500 loss:0.00005\n",
      "epoch:1600 loss:0.00004\n",
      "epoch:1700 loss:0.00003\n",
      "epoch:1800 loss:0.00003\n",
      "epoch:1900 loss:0.00002\n",
      "epoch:2000 loss:0.00002\n",
      "epoch:2100 loss:0.00002\n",
      "epoch:2200 loss:0.00002\n",
      "epoch:2300 loss:0.00001\n",
      "epoch:2400 loss:0.00001\n",
      "epoch:2500 loss:0.00001\n",
      "epoch:2600 loss:0.00001\n",
      "epoch:2700 loss:0.00001\n",
      "epoch:2800 loss:0.00001\n",
      "epoch:2900 loss:0.00001\n",
      "epoch:3000 loss:0.00001\n",
      "epoch:3100 loss:0.00001\n",
      "epoch:3200 loss:0.00001\n",
      "epoch:3300 loss:0.00000\n",
      "epoch:3400 loss:0.00000\n",
      "epoch:3500 loss:0.00000\n",
      "epoch:3600 loss:0.00000\n",
      "epoch:3700 loss:0.00000\n",
      "epoch:3800 loss:0.00000\n",
      "epoch:3900 loss:0.00000\n",
      "epoch:4000 loss:0.00000\n",
      "epoch:4100 loss:0.00000\n",
      "epoch:4200 loss:0.00000\n",
      "epoch:4300 loss:0.00000\n",
      "epoch:4400 loss:0.00000\n",
      "epoch:4500 loss:0.00000\n",
      "epoch:4600 loss:0.00000\n",
      "epoch:4700 loss:0.00000\n",
      "epoch:4800 loss:0.00000\n",
      "epoch:4900 loss:0.00000\n",
      "epoch:5000 loss:0.00000\n",
      "epoch:5100 loss:0.00000\n",
      "epoch:5200 loss:0.00000\n",
      "epoch:5300 loss:0.00000\n",
      "epoch:5400 loss:0.00000\n",
      "epoch:5500 loss:0.00000\n",
      "epoch:5600 loss:0.00000\n",
      "epoch:5700 loss:0.00000\n",
      "epoch:5800 loss:0.00000\n",
      "epoch:5900 loss:0.00000\n"
     ]
    },
    {
     "data": {
      "image/png": "[encoded data removed]",
      "text/plain": [
       "<Figure size 640x480 with 1 Axes>"
      ]
     },
     "metadata": {},
     "output_type": "display_data"
    }
   ],
   "source": [
    "epochs = 6000\n",
    "outputs = []\n",
    "losses = []\n",
    "for epoch in range(epochs): \n",
    "    total_loss=0.\n",
    "    for (image, _) in loader:\n",
    "       \n",
    "        # Output of Autoencoder\n",
    "        reconstructed = model(image)\n",
    "               \n",
    "        # Calculating the loss function\n",
    "        loss = loss_function(reconstructed, image)\n",
    "        \n",
    "        # The gradients are set to zero,\n",
    "        # the gradient is computed and stored.\n",
    "        # .step() performs parameter update\n",
    "        optimizer.zero_grad()\n",
    "        loss.backward()\n",
    "        optimizer.step()\n",
    "        total_loss+=loss.detach().numpy()\n",
    "\n",
    "        # --------- Your code here ---------  \n",
    "    if epoch%100==0:\n",
    "        print(f'epoch:{epoch} loss:{total_loss:.5f}')\n",
    "    losses.append(total_loss)\n",
    "plt.plot([i for i in range(len(losses))],losses)\n",
    "plt.xlabel('epoch')\n",
    "plt.ylabel('loss')\n",
    "plt.show()\n",
    "        # print the loss every 100 epochs,\n",
    "        # print(loss)\n",
    "        # the loss should be decreasing to a small number"
   ]
  },
  {
   "cell_type": "code",
   "execution_count": 24,
   "id": "26860aef-6259-40d8-b3cd-607df692ce53",
   "metadata": {},
   "outputs": [],
   "source": [
    "# model output\n",
    "recon = model(x).detach().numpy()"
   ]
  },
  {
   "cell_type": "code",
   "execution_count": 25,
   "id": "1242ad54-91e9-418a-bb4a-5a55ddb970cb",
   "metadata": {},
   "outputs": [
    {
     "data": {
      "text/plain": [
       "Text(0.5, 1.0, 'reconstructed data')"
      ]
     },
     "execution_count": 25,
     "metadata": {},
     "output_type": "execute_result"
    },
    {
     "data": {
      "image/png": "[encoded data removed]",
      "text/plain": [
       "<Figure size 640x480 with 2 Axes>"
      ]
     },
     "metadata": {},
     "output_type": "display_data"
    }
   ],
   "source": [
    "# --------- Your code here --------- \n",
    "# visualize the reconstructed top 100 samples, and the original top 100 samples side-by-side\n",
    "plt.subplot(1,2,1)\n",
    "plt.imshow(x[:100,:])\n",
    "plt.title('raw data')\n",
    "plt.subplot(1,2,2)\n",
    "plt.imshow(recon[:100,:])\n",
    "plt.title('reconstructed data')\n",
    "# they should look like ...\n"
   ]
  },
  {
   "cell_type": "code",
   "execution_count": 26,
   "id": "2105e14d-2164-48f2-9749-6d63adcc622d",
   "metadata": {},
   "outputs": [
    {
     "name": "stdout",
     "output_type": "stream",
     "text": [
      "tensor([[  6.4532],\n",
      "        [ 21.3054],\n",
      "        [ 83.6099],\n",
      "        [ 10.3288],\n",
      "        [  3.3990],\n",
      "        [ 16.3731],\n",
      "        [  4.8375],\n",
      "        [ 28.0449],\n",
      "        [ 48.3406],\n",
      "        [ 63.3438],\n",
      "        [109.3261],\n",
      "        [  0.0000],\n",
      "        [ 36.9794],\n",
      "        [  1.9169],\n",
      "        [  8.1661],\n",
      "        [ 13.0285]], grad_fn=<ReluBackward0>)\n"
     ]
    }
   ],
   "source": [
    "# print the code book\n",
    "x = torch.eye(N_dim)\n",
    "code = model.encode(x)\n",
    "print(code)"
   ]
  },
  {
   "cell_type": "code",
   "execution_count": 27,
   "id": "3e2f57c9-1383-4b9e-bdb5-88522a0f7b57",
   "metadata": {},
   "outputs": [
    {
     "data": {
      "text/plain": [
       "[<matplotlib.lines.Line2D at 0x1d430cab9d0>]"
      ]
     },
     "execution_count": 27,
     "metadata": {},
     "output_type": "execute_result"
    },
    {
     "data": {
      "image/png": "[encoded data removed]",
      "text/plain": [
       "<Figure size 640x480 with 1 Axes>"
      ]
     },
     "metadata": {},
     "output_type": "display_data"
    }
   ],
   "source": [
    "# plot the code book\n",
    "plt.plot(code.detach().numpy())"
   ]
  },
  {
   "cell_type": "code",
   "execution_count": null,
   "id": "6d0c7813-e4c7-4ef6-a5e8-c10f4b7afd65",
   "metadata": {},
   "outputs": [],
   "source": []
  }
 ],
 "metadata": {
  "kernelspec": {
   "display_name": "Python 3 (ipykernel)",
   "language": "python",
   "name": "python3"
  },
  "language_info": {
   "codemirror_mode": {
    "name": "ipython",
    "version": 3
   },
   "file_extension": ".py",
   "mimetype": "text/x-python",
   "name": "python",
   "nbconvert_exporter": "python",
   "pygments_lexer": "ipython3",
   "version": "3.9.16"
  }
 },
 "nbformat": 4,
 "nbformat_minor": 5
}
